{
 "cells": [
  {
   "cell_type": "markdown",
   "id": "female-melissa",
   "metadata": {},
   "source": [
    "## Project 4 - Hackathon\n",
    "# EDA and Cleaning"
   ]
  },
  {
   "cell_type": "markdown",
   "id": "israeli-wrong",
   "metadata": {},
   "source": [
    "#### Table of Contents\n",
    " - [Import for Cleaning](#Import-for-Cleaning)\n",
    "   - [Temperature data](#Temperature-data)\n",
    "   - [Electricity consumption (2001 - 2011)](#Electricity-consumption-(2001-2011))\n",
    " - [Clean up 2001-2006](#Clean-up-2001-2006)\n",
    " - [Clean up 2007-2011](#Clean-up-2007-2011)\n",
    " - [Export Clean Data](#Export-Clean-Data)\n"
   ]
  },
  {
   "cell_type": "markdown",
   "id": "static-score",
   "metadata": {},
   "source": [
    "## Import for Cleaning\n",
    "[(back to top)](#EDA-and-Cleaning)"
   ]
  },
  {
   "cell_type": "code",
   "execution_count": 1,
   "id": "broadband-causing",
   "metadata": {},
   "outputs": [],
   "source": [
    "import pandas as pd\n",
    "import numpy as np\n",
    "import matplotlib.pyplot as plt\n",
    "\n"
   ]
  },
  {
   "cell_type": "code",
   "execution_count": null,
   "id": "excessive-perfume",
   "metadata": {},
   "outputs": [],
   "source": []
  },
  {
   "cell_type": "markdown",
   "id": "invalid-orleans",
   "metadata": {},
   "source": [
    "### Temperature data\n",
    "#### may not use it , but it is here\n",
    "[(back to top)](#EDA-and-Cleaning)\n"
   ]
  },
  {
   "cell_type": "code",
   "execution_count": 3,
   "id": "charged-bearing",
   "metadata": {},
   "outputs": [],
   "source": [
    "temp = pd.read_csv('../data/gloabl_temp/GlobalLandTemperaturesByState.csv', parse_dates=True, index_col='dt')\n",
    "temp = temp[temp['Country']=='United States']"
   ]
  },
  {
   "cell_type": "code",
   "execution_count": 4,
   "id": "smoking-international",
   "metadata": {},
   "outputs": [],
   "source": [
    "temp = temp[temp.index.year > 2000]"
   ]
  },
  {
   "cell_type": "code",
   "execution_count": null,
   "id": "alive-internet",
   "metadata": {},
   "outputs": [],
   "source": []
  },
  {
   "cell_type": "markdown",
   "id": "verified-reservoir",
   "metadata": {},
   "source": [
    "## Electricity consumption (2001-2011)\n",
    "#### by Year, Month, State, Energy Source, etc.\n",
    "\n",
    "[(back to top)](#EDA-and-Cleaning)"
   ]
  },
  {
   "cell_type": "code",
   "execution_count": 5,
   "id": "extended-barrel",
   "metadata": {},
   "outputs": [],
   "source": [
    "import warnings\n",
    "warnings.simplefilter('ignore')"
   ]
  },
  {
   "cell_type": "code",
   "execution_count": 6,
   "id": "impressive-rwanda",
   "metadata": {},
   "outputs": [
    {
     "data": {
      "text/plain": [
       "['2001-2006_FINAL',\n",
       " '2007-2011_FINAL',\n",
       " '2012_Final',\n",
       " '2013_Final',\n",
       " '2014_Final',\n",
       " '2015_Final',\n",
       " '2016_Final',\n",
       " '2017_Final',\n",
       " '2018_Final',\n",
       " '2019_Final',\n",
       " '2020_Preliminary',\n",
       " '2021_Preliminary']"
      ]
     },
     "execution_count": 6,
     "metadata": {},
     "output_type": "execute_result"
    }
   ],
   "source": [
    "xlsx_file = '../data/monthly_electric/consumption_monthly_edit.xlsx'\n",
    "elec_mo_sheets = pd.ExcelFile(xlsx_file).sheet_names\n",
    "elec_mo_sheets\n",
    "# df1 = pd.read_excel(xls, 'Sheet1')\n",
    "# df2 = pd.read_excel(xls, 'Sheet2')"
   ]
  },
  {
   "cell_type": "code",
   "execution_count": 7,
   "id": "entertaining-windows",
   "metadata": {},
   "outputs": [
    {
     "name": "stdout",
     "output_type": "stream",
     "text": [
      "<class 'pandas.core.frame.DataFrame'>\n",
      "RangeIndex: 56536 entries, 0 to 56535\n",
      "Data columns (total 6 columns):\n",
      " #   Column                              Non-Null Count  Dtype  \n",
      "---  ------                              --------------  -----  \n",
      " 0   YEAR                                56536 non-null  int64  \n",
      " 1   MONTH                               56536 non-null  int64  \n",
      " 2   STATE                               56536 non-null  object \n",
      " 3   TYPE OF PRODUCER                    56536 non-null  object \n",
      " 4   ENERGY SOURCE              (UNITS)  56536 non-null  object \n",
      " 5   CONSUMPTION                         56536 non-null  float64\n",
      "dtypes: float64(1), int64(2), object(3)\n",
      "memory usage: 2.6+ MB\n"
     ]
    }
   ],
   "source": [
    "elec_mo_2001_2006 = pd.read_excel(xlsx_file,sheet_name=0)\n",
    "elec_mo_2001_2006.info()"
   ]
  },
  {
   "cell_type": "code",
   "execution_count": 8,
   "id": "hourly-couple",
   "metadata": {
    "collapsed": true,
    "jupyter": {
     "outputs_hidden": true
    },
    "tags": []
   },
   "outputs": [
    {
     "data": {
      "text/plain": [
       "US-TOTAL    1955\n",
       "CA          1704\n",
       "PA          1562\n",
       "MI          1485\n",
       "IL          1464\n",
       "IN          1452\n",
       "OH          1404\n",
       "NC          1402\n",
       "TX          1391\n",
       "NJ          1391\n",
       "FL          1344\n",
       "VA          1342\n",
       "NY          1320\n",
       "LA          1272\n",
       "MD          1254\n",
       "WA          1253\n",
       "UT          1225\n",
       "WI          1224\n",
       "SC          1188\n",
       "MA          1178\n",
       "OK          1172\n",
       "CT          1164\n",
       "WV          1155\n",
       "ME          1140\n",
       "AL          1128\n",
       "MN          1127\n",
       "CO          1120\n",
       "DE          1104\n",
       "MO          1067\n",
       "GA          1032\n",
       "IA          1032\n",
       "TN          1008\n",
       "MT           994\n",
       "MS           993\n",
       "AZ           963\n",
       "NV           954\n",
       "AR           926\n",
       "OR           912\n",
       "HI           900\n",
       "NE           868\n",
       "NM           864\n",
       "WY           849\n",
       "KY           832\n",
       "AK           828\n",
       "NH           819\n",
       "ND           790\n",
       "RI           720\n",
       "ID           692\n",
       "KS           685\n",
       "SD           432\n",
       "VT           312\n",
       "DC           144\n",
       "Name: STATE, dtype: int64"
      ]
     },
     "execution_count": 8,
     "metadata": {},
     "output_type": "execute_result"
    }
   ],
   "source": [
    "elec_mo_2001_2006['STATE'].value_counts()"
   ]
  },
  {
   "cell_type": "code",
   "execution_count": null,
   "id": "front-digest",
   "metadata": {},
   "outputs": [],
   "source": []
  },
  {
   "cell_type": "code",
   "execution_count": 9,
   "id": "numerical-theater",
   "metadata": {},
   "outputs": [
    {
     "name": "stdout",
     "output_type": "stream",
     "text": [
      "<class 'pandas.core.frame.DataFrame'>\n",
      "RangeIndex: 47462 entries, 0 to 47461\n",
      "Data columns (total 6 columns):\n",
      " #   Column                              Non-Null Count  Dtype  \n",
      "---  ------                              --------------  -----  \n",
      " 0   YEAR                                47462 non-null  int64  \n",
      " 1   MONTH                               47462 non-null  int64  \n",
      " 2   STATE                               47462 non-null  object \n",
      " 3   TYPE OF PRODUCER                    47462 non-null  object \n",
      " 4   ENERGY SOURCE              (UNITS)  47462 non-null  object \n",
      " 5   CONSUMPTION                         47462 non-null  float64\n",
      "dtypes: float64(1), int64(2), object(3)\n",
      "memory usage: 2.2+ MB\n"
     ]
    }
   ],
   "source": [
    "elec_mo_2007_2011 = pd.read_excel(xlsx_file,sheet_name=1)\n",
    "elec_mo_2007_2011.info()"
   ]
  },
  {
   "cell_type": "code",
   "execution_count": null,
   "id": "cubic-motivation",
   "metadata": {},
   "outputs": [],
   "source": []
  },
  {
   "cell_type": "code",
   "execution_count": null,
   "id": "threatened-lawyer",
   "metadata": {},
   "outputs": [],
   "source": []
  },
  {
   "cell_type": "markdown",
   "id": "patent-korean",
   "metadata": {},
   "source": [
    "## Clean up 2001-2006\n",
    "[(back to top)](#EDA-and-Cleaning)"
   ]
  },
  {
   "cell_type": "code",
   "execution_count": 10,
   "id": "attempted-attention",
   "metadata": {},
   "outputs": [],
   "source": [
    "elec_mo_2001_2006 = elec_mo_2001_2006[elec_mo_2001_2006['TYPE OF PRODUCER'] == 'Total Electric Power Industry']"
   ]
  },
  {
   "cell_type": "code",
   "execution_count": 11,
   "id": "green-tuition",
   "metadata": {},
   "outputs": [
    {
     "data": {
      "text/plain": [
       "Petroleum (Barrels)          3744\n",
       "Natural Gas (Mcf)            3636\n",
       "Coal (Short Tons)            3528\n",
       "Other Gases (Billion BTU)    2273\n",
       "Geothermal (Billion BTU)      360\n",
       "Name: ENERGY SOURCE              (UNITS), dtype: int64"
      ]
     },
     "execution_count": 11,
     "metadata": {},
     "output_type": "execute_result"
    }
   ],
   "source": [
    "elec_mo_2001_2006['ENERGY SOURCE              (UNITS)'].value_counts()"
   ]
  },
  {
   "cell_type": "code",
   "execution_count": 33,
   "id": "lightweight-narrative",
   "metadata": {},
   "outputs": [
    {
     "name": "stdout",
     "output_type": "stream",
     "text": [
      "<class 'pandas.core.frame.DataFrame'>\n",
      "DatetimeIndex: 13541 entries, 2001-01-01 to 2006-12-01\n",
      "Data columns (total 6 columns):\n",
      " #   Column                              Non-Null Count  Dtype  \n",
      "---  ------                              --------------  -----  \n",
      " 0   YEAR                                13541 non-null  int64  \n",
      " 1   MONTH                               13541 non-null  int64  \n",
      " 2   STATE                               13541 non-null  object \n",
      " 3   TYPE OF PRODUCER                    13541 non-null  object \n",
      " 4   ENERGY SOURCE              (UNITS)  13541 non-null  object \n",
      " 5   CONSUMPTION                         13541 non-null  float64\n",
      "dtypes: float64(1), int64(2), object(3)\n",
      "memory usage: 740.5+ KB\n"
     ]
    }
   ],
   "source": [
    "elec_mo_2001_2006['date'] = pd.to_datetime(elec_mo_2001_2006['YEAR'].astype(str) + '/' + elec_mo_2001_2006['MONTH'].astype(str) + '/01')\n",
    "elec_mo_2001_2006.set_index('date', inplace=True)\n",
    "elec_mo_2001_2006.info()"
   ]
  },
  {
   "cell_type": "code",
   "execution_count": 35,
   "id": "precious-shape",
   "metadata": {},
   "outputs": [],
   "source": [
    "elec_mo_2001_2006.drop(columns=['YEAR', 'MONTH'], inplace=True)"
   ]
  },
  {
   "cell_type": "code",
   "execution_count": 38,
   "id": "featured-earthquake",
   "metadata": {},
   "outputs": [],
   "source": [
    "elec_mo_2001_2006_consumption = elec_mo_2001_2006.groupby(['STATE', elec_mo_2001_2006.index])[['CONSUMPTION']].sum()\n"
   ]
  },
  {
   "cell_type": "code",
   "execution_count": 42,
   "id": "acknowledged-guard",
   "metadata": {},
   "outputs": [],
   "source": [
    "elec_mo_2001_2006_consumption.reset_index(inplace=True)"
   ]
  },
  {
   "cell_type": "code",
   "execution_count": 43,
   "id": "entire-funeral",
   "metadata": {},
   "outputs": [
    {
     "data": {
      "text/html": [
       "<div>\n",
       "<style scoped>\n",
       "    .dataframe tbody tr th:only-of-type {\n",
       "        vertical-align: middle;\n",
       "    }\n",
       "\n",
       "    .dataframe tbody tr th {\n",
       "        vertical-align: top;\n",
       "    }\n",
       "\n",
       "    .dataframe thead th {\n",
       "        text-align: right;\n",
       "    }\n",
       "</style>\n",
       "<table border=\"1\" class=\"dataframe\">\n",
       "  <thead>\n",
       "    <tr style=\"text-align: right;\">\n",
       "      <th></th>\n",
       "      <th>STATE</th>\n",
       "      <th>CONSUMPTION</th>\n",
       "    </tr>\n",
       "    <tr>\n",
       "      <th>date</th>\n",
       "      <th></th>\n",
       "      <th></th>\n",
       "    </tr>\n",
       "  </thead>\n",
       "  <tbody>\n",
       "    <tr>\n",
       "      <th>2001-01-01</th>\n",
       "      <td>AK</td>\n",
       "      <td>4113880.00</td>\n",
       "    </tr>\n",
       "    <tr>\n",
       "      <th>2001-02-01</th>\n",
       "      <td>AK</td>\n",
       "      <td>3909862.00</td>\n",
       "    </tr>\n",
       "    <tr>\n",
       "      <th>2001-03-01</th>\n",
       "      <td>AK</td>\n",
       "      <td>4131398.00</td>\n",
       "    </tr>\n",
       "    <tr>\n",
       "      <th>2001-04-01</th>\n",
       "      <td>AK</td>\n",
       "      <td>3302305.00</td>\n",
       "    </tr>\n",
       "    <tr>\n",
       "      <th>2001-05-01</th>\n",
       "      <td>AK</td>\n",
       "      <td>3174168.00</td>\n",
       "    </tr>\n",
       "    <tr>\n",
       "      <th>...</th>\n",
       "      <td>...</td>\n",
       "      <td>...</td>\n",
       "    </tr>\n",
       "    <tr>\n",
       "      <th>2006-08-01</th>\n",
       "      <td>WY</td>\n",
       "      <td>2717254.53</td>\n",
       "    </tr>\n",
       "    <tr>\n",
       "      <th>2006-09-01</th>\n",
       "      <td>WY</td>\n",
       "      <td>2530281.62</td>\n",
       "    </tr>\n",
       "    <tr>\n",
       "      <th>2006-10-01</th>\n",
       "      <td>WY</td>\n",
       "      <td>2554019.25</td>\n",
       "    </tr>\n",
       "    <tr>\n",
       "      <th>2006-11-01</th>\n",
       "      <td>WY</td>\n",
       "      <td>2598159.65</td>\n",
       "    </tr>\n",
       "    <tr>\n",
       "      <th>2006-12-01</th>\n",
       "      <td>WY</td>\n",
       "      <td>2585697.78</td>\n",
       "    </tr>\n",
       "  </tbody>\n",
       "</table>\n",
       "<p>3744 rows × 2 columns</p>\n",
       "</div>"
      ],
      "text/plain": [
       "           STATE  CONSUMPTION\n",
       "date                         \n",
       "2001-01-01    AK   4113880.00\n",
       "2001-02-01    AK   3909862.00\n",
       "2001-03-01    AK   4131398.00\n",
       "2001-04-01    AK   3302305.00\n",
       "2001-05-01    AK   3174168.00\n",
       "...          ...          ...\n",
       "2006-08-01    WY   2717254.53\n",
       "2006-09-01    WY   2530281.62\n",
       "2006-10-01    WY   2554019.25\n",
       "2006-11-01    WY   2598159.65\n",
       "2006-12-01    WY   2585697.78\n",
       "\n",
       "[3744 rows x 2 columns]"
      ]
     },
     "execution_count": 43,
     "metadata": {},
     "output_type": "execute_result"
    }
   ],
   "source": [
    "elec_mo_2001_2006_consumption.set_index('date', inplace=True)\n",
    "elec_mo_2001_2006_consumption"
   ]
  },
  {
   "cell_type": "code",
   "execution_count": null,
   "id": "severe-alignment",
   "metadata": {},
   "outputs": [],
   "source": []
  },
  {
   "cell_type": "code",
   "execution_count": null,
   "id": "logical-infection",
   "metadata": {},
   "outputs": [],
   "source": []
  },
  {
   "cell_type": "markdown",
   "id": "acting-executive",
   "metadata": {},
   "source": [
    "## Clean up 2007-2011\n",
    "[(back to top)](#EDA-and-Cleaning)"
   ]
  },
  {
   "cell_type": "code",
   "execution_count": 44,
   "id": "bored-secretariat",
   "metadata": {},
   "outputs": [],
   "source": [
    "elec_mo_2007_2011 = elec_mo_2007_2011[elec_mo_2007_2011['TYPE OF PRODUCER'] == 'Total Electric Power Industry']"
   ]
  },
  {
   "cell_type": "code",
   "execution_count": 45,
   "id": "identified-palace",
   "metadata": {},
   "outputs": [
    {
     "name": "stdout",
     "output_type": "stream",
     "text": [
      "<class 'pandas.core.frame.DataFrame'>\n",
      "DatetimeIndex: 11317 entries, 2007-01-01 to 2011-12-01\n",
      "Data columns (total 6 columns):\n",
      " #   Column                              Non-Null Count  Dtype  \n",
      "---  ------                              --------------  -----  \n",
      " 0   YEAR                                11317 non-null  int64  \n",
      " 1   MONTH                               11317 non-null  int64  \n",
      " 2   STATE                               11317 non-null  object \n",
      " 3   TYPE OF PRODUCER                    11317 non-null  object \n",
      " 4   ENERGY SOURCE              (UNITS)  11317 non-null  object \n",
      " 5   CONSUMPTION                         11317 non-null  float64\n",
      "dtypes: float64(1), int64(2), object(3)\n",
      "memory usage: 618.9+ KB\n"
     ]
    }
   ],
   "source": [
    "elec_mo_2007_2011['date'] = pd.to_datetime(elec_mo_2007_2011['YEAR'].astype(str) + '/' + elec_mo_2007_2011['MONTH'].astype(str) + '/01')\n",
    "elec_mo_2007_2011.set_index('date', inplace=True)\n",
    "elec_mo_2007_2011.info()"
   ]
  },
  {
   "cell_type": "code",
   "execution_count": 46,
   "id": "formal-vanilla",
   "metadata": {},
   "outputs": [],
   "source": [
    "elec_mo_2007_2011.drop(columns=['YEAR', 'MONTH'], inplace=True)"
   ]
  },
  {
   "cell_type": "code",
   "execution_count": 47,
   "id": "independent-blogger",
   "metadata": {},
   "outputs": [],
   "source": [
    "elec_mo_2007_2011_consumption = elec_mo_2007_2011.groupby(['STATE', elec_mo_2007_2011.index])[['CONSUMPTION']].sum()\n"
   ]
  },
  {
   "cell_type": "code",
   "execution_count": 48,
   "id": "indian-france",
   "metadata": {},
   "outputs": [],
   "source": [
    "elec_mo_2007_2011_consumption.reset_index(inplace=True)"
   ]
  },
  {
   "cell_type": "code",
   "execution_count": 49,
   "id": "polyphonic-lunch",
   "metadata": {},
   "outputs": [
    {
     "data": {
      "text/html": [
       "<div>\n",
       "<style scoped>\n",
       "    .dataframe tbody tr th:only-of-type {\n",
       "        vertical-align: middle;\n",
       "    }\n",
       "\n",
       "    .dataframe tbody tr th {\n",
       "        vertical-align: top;\n",
       "    }\n",
       "\n",
       "    .dataframe thead th {\n",
       "        text-align: right;\n",
       "    }\n",
       "</style>\n",
       "<table border=\"1\" class=\"dataframe\">\n",
       "  <thead>\n",
       "    <tr style=\"text-align: right;\">\n",
       "      <th></th>\n",
       "      <th>STATE</th>\n",
       "      <th>CONSUMPTION</th>\n",
       "    </tr>\n",
       "    <tr>\n",
       "      <th>date</th>\n",
       "      <th></th>\n",
       "      <th></th>\n",
       "    </tr>\n",
       "  </thead>\n",
       "  <tbody>\n",
       "    <tr>\n",
       "      <th>2007-01-01</th>\n",
       "      <td>AK</td>\n",
       "      <td>4105804.00</td>\n",
       "    </tr>\n",
       "    <tr>\n",
       "      <th>2007-02-01</th>\n",
       "      <td>AK</td>\n",
       "      <td>3464929.00</td>\n",
       "    </tr>\n",
       "    <tr>\n",
       "      <th>2007-03-01</th>\n",
       "      <td>AK</td>\n",
       "      <td>3877357.00</td>\n",
       "    </tr>\n",
       "    <tr>\n",
       "      <th>2007-04-01</th>\n",
       "      <td>AK</td>\n",
       "      <td>3441011.00</td>\n",
       "    </tr>\n",
       "    <tr>\n",
       "      <th>2007-05-01</th>\n",
       "      <td>AK</td>\n",
       "      <td>3333078.00</td>\n",
       "    </tr>\n",
       "    <tr>\n",
       "      <th>...</th>\n",
       "      <td>...</td>\n",
       "      <td>...</td>\n",
       "    </tr>\n",
       "    <tr>\n",
       "      <th>2011-08-01</th>\n",
       "      <td>WY</td>\n",
       "      <td>2384723.04</td>\n",
       "    </tr>\n",
       "    <tr>\n",
       "      <th>2011-09-01</th>\n",
       "      <td>WY</td>\n",
       "      <td>2428088.29</td>\n",
       "    </tr>\n",
       "    <tr>\n",
       "      <th>2011-10-01</th>\n",
       "      <td>WY</td>\n",
       "      <td>2285695.77</td>\n",
       "    </tr>\n",
       "    <tr>\n",
       "      <th>2011-11-01</th>\n",
       "      <td>WY</td>\n",
       "      <td>2497483.94</td>\n",
       "    </tr>\n",
       "    <tr>\n",
       "      <th>2011-12-01</th>\n",
       "      <td>WY</td>\n",
       "      <td>2907798.16</td>\n",
       "    </tr>\n",
       "  </tbody>\n",
       "</table>\n",
       "<p>3120 rows × 2 columns</p>\n",
       "</div>"
      ],
      "text/plain": [
       "           STATE  CONSUMPTION\n",
       "date                         \n",
       "2007-01-01    AK   4105804.00\n",
       "2007-02-01    AK   3464929.00\n",
       "2007-03-01    AK   3877357.00\n",
       "2007-04-01    AK   3441011.00\n",
       "2007-05-01    AK   3333078.00\n",
       "...          ...          ...\n",
       "2011-08-01    WY   2384723.04\n",
       "2011-09-01    WY   2428088.29\n",
       "2011-10-01    WY   2285695.77\n",
       "2011-11-01    WY   2497483.94\n",
       "2011-12-01    WY   2907798.16\n",
       "\n",
       "[3120 rows x 2 columns]"
      ]
     },
     "execution_count": 49,
     "metadata": {},
     "output_type": "execute_result"
    }
   ],
   "source": [
    "elec_mo_2007_2011_consumption.set_index('date', inplace=True)\n",
    "elec_mo_2007_2011_consumption"
   ]
  },
  {
   "cell_type": "code",
   "execution_count": null,
   "id": "temporal-equality",
   "metadata": {},
   "outputs": [],
   "source": []
  },
  {
   "cell_type": "code",
   "execution_count": 51,
   "id": "union-breakfast",
   "metadata": {},
   "outputs": [
    {
     "data": {
      "text/html": [
       "<div>\n",
       "<style scoped>\n",
       "    .dataframe tbody tr th:only-of-type {\n",
       "        vertical-align: middle;\n",
       "    }\n",
       "\n",
       "    .dataframe tbody tr th {\n",
       "        vertical-align: top;\n",
       "    }\n",
       "\n",
       "    .dataframe thead th {\n",
       "        text-align: right;\n",
       "    }\n",
       "</style>\n",
       "<table border=\"1\" class=\"dataframe\">\n",
       "  <thead>\n",
       "    <tr style=\"text-align: right;\">\n",
       "      <th></th>\n",
       "      <th>STATE</th>\n",
       "      <th>CONSUMPTION</th>\n",
       "    </tr>\n",
       "    <tr>\n",
       "      <th>date</th>\n",
       "      <th></th>\n",
       "      <th></th>\n",
       "    </tr>\n",
       "  </thead>\n",
       "  <tbody>\n",
       "    <tr>\n",
       "      <th>2001-01-01</th>\n",
       "      <td>AK</td>\n",
       "      <td>4113880.00</td>\n",
       "    </tr>\n",
       "    <tr>\n",
       "      <th>2001-02-01</th>\n",
       "      <td>AK</td>\n",
       "      <td>3909862.00</td>\n",
       "    </tr>\n",
       "    <tr>\n",
       "      <th>2001-03-01</th>\n",
       "      <td>AK</td>\n",
       "      <td>4131398.00</td>\n",
       "    </tr>\n",
       "    <tr>\n",
       "      <th>2001-04-01</th>\n",
       "      <td>AK</td>\n",
       "      <td>3302305.00</td>\n",
       "    </tr>\n",
       "    <tr>\n",
       "      <th>2001-05-01</th>\n",
       "      <td>AK</td>\n",
       "      <td>3174168.00</td>\n",
       "    </tr>\n",
       "    <tr>\n",
       "      <th>...</th>\n",
       "      <td>...</td>\n",
       "      <td>...</td>\n",
       "    </tr>\n",
       "    <tr>\n",
       "      <th>2011-08-01</th>\n",
       "      <td>WY</td>\n",
       "      <td>2384723.04</td>\n",
       "    </tr>\n",
       "    <tr>\n",
       "      <th>2011-09-01</th>\n",
       "      <td>WY</td>\n",
       "      <td>2428088.29</td>\n",
       "    </tr>\n",
       "    <tr>\n",
       "      <th>2011-10-01</th>\n",
       "      <td>WY</td>\n",
       "      <td>2285695.77</td>\n",
       "    </tr>\n",
       "    <tr>\n",
       "      <th>2011-11-01</th>\n",
       "      <td>WY</td>\n",
       "      <td>2497483.94</td>\n",
       "    </tr>\n",
       "    <tr>\n",
       "      <th>2011-12-01</th>\n",
       "      <td>WY</td>\n",
       "      <td>2907798.16</td>\n",
       "    </tr>\n",
       "  </tbody>\n",
       "</table>\n",
       "<p>6864 rows × 2 columns</p>\n",
       "</div>"
      ],
      "text/plain": [
       "           STATE  CONSUMPTION\n",
       "date                         \n",
       "2001-01-01    AK   4113880.00\n",
       "2001-02-01    AK   3909862.00\n",
       "2001-03-01    AK   4131398.00\n",
       "2001-04-01    AK   3302305.00\n",
       "2001-05-01    AK   3174168.00\n",
       "...          ...          ...\n",
       "2011-08-01    WY   2384723.04\n",
       "2011-09-01    WY   2428088.29\n",
       "2011-10-01    WY   2285695.77\n",
       "2011-11-01    WY   2497483.94\n",
       "2011-12-01    WY   2907798.16\n",
       "\n",
       "[6864 rows x 2 columns]"
      ]
     },
     "execution_count": 51,
     "metadata": {},
     "output_type": "execute_result"
    }
   ],
   "source": [
    "elec_mo_2001_2011_consumption = pd.concat([elec_mo_2001_2006_consumption, elec_mo_2007_2011_consumption])\n",
    "elec_mo_2001_2011_consumption"
   ]
  },
  {
   "cell_type": "code",
   "execution_count": null,
   "id": "metric-cleaning",
   "metadata": {},
   "outputs": [],
   "source": []
  },
  {
   "cell_type": "code",
   "execution_count": null,
   "id": "emerging-antique",
   "metadata": {},
   "outputs": [],
   "source": []
  },
  {
   "cell_type": "markdown",
   "id": "consistent-deposit",
   "metadata": {},
   "source": [
    "## Export Clean Data\n",
    "[(back to top)](#EDA-and-Cleaning)"
   ]
  },
  {
   "cell_type": "code",
   "execution_count": 52,
   "id": "coastal-healing",
   "metadata": {},
   "outputs": [],
   "source": [
    "elec_mo_2001_2011_consumption.to_csv('../data/elec_mo_2001_2011_consumption.csv')"
   ]
  },
  {
   "cell_type": "code",
   "execution_count": null,
   "id": "north-registrar",
   "metadata": {},
   "outputs": [],
   "source": []
  }
 ],
 "metadata": {
  "kernelspec": {
   "display_name": "Python 3",
   "language": "python",
   "name": "python3"
  },
  "language_info": {
   "codemirror_mode": {
    "name": "ipython",
    "version": 3
   },
   "file_extension": ".py",
   "mimetype": "text/x-python",
   "name": "python",
   "nbconvert_exporter": "python",
   "pygments_lexer": "ipython3",
   "version": "3.8.5"
  }
 },
 "nbformat": 4,
 "nbformat_minor": 5
}
