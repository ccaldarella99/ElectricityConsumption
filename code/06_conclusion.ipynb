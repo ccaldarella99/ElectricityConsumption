{
 "cells": [
  {
   "cell_type": "markdown",
   "id": "cc423142-bf71-4653-a03b-b725b3d8d701",
   "metadata": {},
   "source": [
    "# Conclusion"
   ]
  },
  {
   "cell_type": "markdown",
   "id": "0c69dc20-e800-4cec-89eb-1f6fb4691e58",
   "metadata": {},
   "source": [
    "It appears that the Holt-Winters performed the best out of all the models, and fits best when looking at plots.\n",
    "\n",
    "\n",
    "SARIMAX did not do well, but the Seasonal model and the Auto-Regression Models seemed to do ok.\n",
    "\n",
    "\n",
    "| Model\\Score     | RMSE    | MAE     |\n",
    "|---              |---      |---      |\n",
    "| Holt-Winters    | 3631847 | 2920368 |\n",
    "| Seasonal        | 4294624 | 3603229 |\n",
    "| Auto-Regression | 4414239 | 3663597 |\n",
    "| SARIMAX         | 4713245 | 3813522 |\n",
    "| Null Model      | 5359973 | 4164017 |"
   ]
  },
  {
   "cell_type": "markdown",
   "id": "195ff08f-a849-471b-bc16-cad0be55f9dc",
   "metadata": {},
   "source": [
    "# Areas for Further Research and Study"
   ]
  },
  {
   "cell_type": "markdown",
   "id": "0ba8a96c-3ab2-4f02-b55a-251e32661d31",
   "metadata": {},
   "source": [
    "We can expand this to other states in the United States."
   ]
  },
  {
   "cell_type": "code",
   "execution_count": null,
   "id": "85f81f0f-2f00-49f3-897d-61982113e6de",
   "metadata": {},
   "outputs": [],
   "source": []
  }
 ],
 "metadata": {
  "kernelspec": {
   "display_name": "Python 3",
   "language": "python",
   "name": "python3"
  },
  "language_info": {
   "codemirror_mode": {
    "name": "ipython",
    "version": 3
   },
   "file_extension": ".py",
   "mimetype": "text/x-python",
   "name": "python",
   "nbconvert_exporter": "python",
   "pygments_lexer": "ipython3",
   "version": "3.8.10"
  }
 },
 "nbformat": 4,
 "nbformat_minor": 5
}
