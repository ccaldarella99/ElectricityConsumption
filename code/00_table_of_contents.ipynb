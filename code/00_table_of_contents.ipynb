{
 "cells": [
  {
   "cell_type": "markdown",
   "id": "bronze-conservative",
   "metadata": {},
   "source": [
    "# Table of Contents"
   ]
  },
  {
   "cell_type": "markdown",
   "id": "olympic-freeze",
   "metadata": {
    "tags": []
   },
   "source": [
    "<!--\n",
    "\n",
    "\n",
    "[Functions](functions.ipynb)<br />\n",
    " - Import of libraries and all of the functions I am using for Project 3.\n",
    " - This Notebook is imported into all other Notebooks\n",
    " - Please note that you may need to install ipynb\n",
    "##### *Note: the command to install `ipynb` is inside the Function notebook and each of the other notebooks. The line to install is commented out and just needs to be uncommented and ran.*\n",
    "\n",
    "\n",
    "-->"
   ]
  },
  {
   "cell_type": "markdown",
   "id": "provincial-baseline",
   "metadata": {
    "tags": []
   },
   "source": [
    "[01 - EDA and Cleaning](01_eda_and_cleaning.ipynb)<br />\n",
    " - Import for Cleaning<br />\n",
    " - Temperature data<br />\n",
    " - Electricity consumption (2001 - 2011)<br />\n",
    " - Clean up 2001-2006<br />\n",
    " - Clean up 2007-2011<br />\n",
    " - Export Clean Data <br />\n"
   ]
  },
  {
   "cell_type": "markdown",
   "id": "atomic-province",
   "metadata": {},
   "source": [
    "[03 - stuff](03_stuff.ipynb)<br />\n",
    " - Stuff <br />\n"
   ]
  },
  {
   "cell_type": "markdown",
   "id": "literary-pricing",
   "metadata": {},
   "source": [
    "[04 - stuff](03_stuff.ipynb)<br />\n",
    " - Stuff <br />\n"
   ]
  },
  {
   "cell_type": "markdown",
   "id": "returning-chosen",
   "metadata": {},
   "source": [
    "[05- stuff](03_stuff.ipynb)<br />\n",
    " - Stuff <br />\n"
   ]
  },
  {
   "cell_type": "markdown",
   "id": "voluntary-packing",
   "metadata": {},
   "source": [
    "[06 - Conclusion](06_conclusion.ipynb)<br />\n",
    " - Conclusion <br/>\n",
    " - Areas for Further Research and Study <br/>\n"
   ]
  },
  {
   "cell_type": "code",
   "execution_count": null,
   "id": "competent-northeast",
   "metadata": {},
   "outputs": [],
   "source": []
  }
 ],
 "metadata": {
  "kernelspec": {
   "display_name": "Python 3",
   "language": "python",
   "name": "python3"
  },
  "language_info": {
   "codemirror_mode": {
    "name": "ipython",
    "version": 3
   },
   "file_extension": ".py",
   "mimetype": "text/x-python",
   "name": "python",
   "nbconvert_exporter": "python",
   "pygments_lexer": "ipython3",
   "version": "3.8.5"
  }
 },
 "nbformat": 4,
 "nbformat_minor": 5
}
